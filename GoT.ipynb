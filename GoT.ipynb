{
 "cells": [
  {
   "cell_type": "markdown",
   "metadata": {},
   "source": [
    "# Game of Thrones"
   ]
  },
  {
   "cell_type": "markdown",
   "metadata": {},
   "source": [
    "I happened to bump into a Game of Thrones data set and decided it would interesting to see what was going on there.\n",
    "I recently watched the seasons 1 - 7, under duress at first. But slowly realised the genius and brilliance of George RR Martin."
   ]
  },
  {
   "cell_type": "code",
   "execution_count": 5,
   "metadata": {},
   "outputs": [],
   "source": [
    "import numpy as np # linear algebra\n",
    "import pandas as pd # data processing, CSV file I/O (e.g. pd.read_csv)\n",
    "import seaborn as sn # data visualization\n",
    "import matplotlib.pyplot as ml # data visualisation as well\n",
    "import warnings\n",
    "\n",
    "\n",
    "sn.set(color_codes = True, style=\"white\")\n",
    "battles = pd.read_csv(\"battles.csv\", sep=\",\", header=0)\n",
    "deaths = pd.read_csv(\"character-deaths.csv\", sep=\",\", header=0)\n",
    "predictions = pd.read_csv(\"character-predictions.csv\", sep=\",\", header=0)"
   ]
  },
  {
   "cell_type": "markdown",
   "metadata": {},
   "source": [
    "We look at the basic shape of the data sets"
   ]
  },
  {
   "cell_type": "code",
   "execution_count": 2,
   "metadata": {},
   "outputs": [
    {
     "data": {
      "text/plain": [
       "(38, 25)"
      ]
     },
     "execution_count": 2,
     "metadata": {},
     "output_type": "execute_result"
    }
   ],
   "source": [
    "battles.shape"
   ]
  },
  {
   "cell_type": "code",
   "execution_count": 3,
   "metadata": {},
   "outputs": [
    {
     "data": {
      "text/plain": [
       "(917, 13)"
      ]
     },
     "execution_count": 3,
     "metadata": {},
     "output_type": "execute_result"
    }
   ],
   "source": [
    "deaths.shape"
   ]
  },
  {
   "cell_type": "code",
   "execution_count": 4,
   "metadata": {},
   "outputs": [
    {
     "data": {
      "text/plain": [
       "(1946, 33)"
      ]
     },
     "execution_count": 4,
     "metadata": {},
     "output_type": "execute_result"
    }
   ],
   "source": [
    "predictions.shape"
   ]
  },
  {
   "cell_type": "markdown",
   "metadata": {},
   "source": [
    "Lets have a peek at what we are working with."
   ]
  },
  {
   "cell_type": "code",
   "execution_count": 29,
   "metadata": {},
   "outputs": [
    {
     "data": {
      "text/html": [
       "<div>\n",
       "<style scoped>\n",
       "    .dataframe tbody tr th:only-of-type {\n",
       "        vertical-align: middle;\n",
       "    }\n",
       "\n",
       "    .dataframe tbody tr th {\n",
       "        vertical-align: top;\n",
       "    }\n",
       "\n",
       "    .dataframe thead th {\n",
       "        text-align: right;\n",
       "    }\n",
       "</style>\n",
       "<table border=\"1\" class=\"dataframe\">\n",
       "  <thead>\n",
       "    <tr style=\"text-align: right;\">\n",
       "      <th></th>\n",
       "      <th>name</th>\n",
       "      <th>year</th>\n",
       "      <th>battle_number</th>\n",
       "      <th>attacker_king</th>\n",
       "      <th>defender_king</th>\n",
       "      <th>attacker_1</th>\n",
       "      <th>attacker_2</th>\n",
       "      <th>attacker_3</th>\n",
       "      <th>attacker_4</th>\n",
       "      <th>defender_1</th>\n",
       "      <th>...</th>\n",
       "      <th>major_death</th>\n",
       "      <th>major_capture</th>\n",
       "      <th>attacker_size</th>\n",
       "      <th>defender_size</th>\n",
       "      <th>attacker_commander</th>\n",
       "      <th>defender_commander</th>\n",
       "      <th>summer</th>\n",
       "      <th>location</th>\n",
       "      <th>region</th>\n",
       "      <th>note</th>\n",
       "    </tr>\n",
       "  </thead>\n",
       "  <tbody>\n",
       "    <tr>\n",
       "      <th>0</th>\n",
       "      <td>Battle of the Golden Tooth</td>\n",
       "      <td>298</td>\n",
       "      <td>1</td>\n",
       "      <td>Joffrey/Tommen Baratheon</td>\n",
       "      <td>Robb Stark</td>\n",
       "      <td>Lannister</td>\n",
       "      <td>NaN</td>\n",
       "      <td>NaN</td>\n",
       "      <td>NaN</td>\n",
       "      <td>Tully</td>\n",
       "      <td>...</td>\n",
       "      <td>1.0</td>\n",
       "      <td>0.0</td>\n",
       "      <td>15000.0</td>\n",
       "      <td>4000.0</td>\n",
       "      <td>Jaime Lannister</td>\n",
       "      <td>Clement Piper, Vance</td>\n",
       "      <td>1.0</td>\n",
       "      <td>Golden Tooth</td>\n",
       "      <td>The Westerlands</td>\n",
       "      <td>NaN</td>\n",
       "    </tr>\n",
       "    <tr>\n",
       "      <th>1</th>\n",
       "      <td>Battle at the Mummer's Ford</td>\n",
       "      <td>298</td>\n",
       "      <td>2</td>\n",
       "      <td>Joffrey/Tommen Baratheon</td>\n",
       "      <td>Robb Stark</td>\n",
       "      <td>Lannister</td>\n",
       "      <td>NaN</td>\n",
       "      <td>NaN</td>\n",
       "      <td>NaN</td>\n",
       "      <td>Baratheon</td>\n",
       "      <td>...</td>\n",
       "      <td>1.0</td>\n",
       "      <td>0.0</td>\n",
       "      <td>NaN</td>\n",
       "      <td>120.0</td>\n",
       "      <td>Gregor Clegane</td>\n",
       "      <td>Beric Dondarrion</td>\n",
       "      <td>1.0</td>\n",
       "      <td>Mummer's Ford</td>\n",
       "      <td>The Riverlands</td>\n",
       "      <td>NaN</td>\n",
       "    </tr>\n",
       "    <tr>\n",
       "      <th>2</th>\n",
       "      <td>Battle of Riverrun</td>\n",
       "      <td>298</td>\n",
       "      <td>3</td>\n",
       "      <td>Joffrey/Tommen Baratheon</td>\n",
       "      <td>Robb Stark</td>\n",
       "      <td>Lannister</td>\n",
       "      <td>NaN</td>\n",
       "      <td>NaN</td>\n",
       "      <td>NaN</td>\n",
       "      <td>Tully</td>\n",
       "      <td>...</td>\n",
       "      <td>0.0</td>\n",
       "      <td>1.0</td>\n",
       "      <td>15000.0</td>\n",
       "      <td>10000.0</td>\n",
       "      <td>Jaime Lannister, Andros Brax</td>\n",
       "      <td>Edmure Tully, Tytos Blackwood</td>\n",
       "      <td>1.0</td>\n",
       "      <td>Riverrun</td>\n",
       "      <td>The Riverlands</td>\n",
       "      <td>NaN</td>\n",
       "    </tr>\n",
       "    <tr>\n",
       "      <th>3</th>\n",
       "      <td>Battle of the Green Fork</td>\n",
       "      <td>298</td>\n",
       "      <td>4</td>\n",
       "      <td>Robb Stark</td>\n",
       "      <td>Joffrey/Tommen Baratheon</td>\n",
       "      <td>Stark</td>\n",
       "      <td>NaN</td>\n",
       "      <td>NaN</td>\n",
       "      <td>NaN</td>\n",
       "      <td>Lannister</td>\n",
       "      <td>...</td>\n",
       "      <td>1.0</td>\n",
       "      <td>1.0</td>\n",
       "      <td>18000.0</td>\n",
       "      <td>20000.0</td>\n",
       "      <td>Roose Bolton, Wylis Manderly, Medger Cerwyn, H...</td>\n",
       "      <td>Tywin Lannister, Gregor Clegane, Kevan Lannist...</td>\n",
       "      <td>1.0</td>\n",
       "      <td>Green Fork</td>\n",
       "      <td>The Riverlands</td>\n",
       "      <td>NaN</td>\n",
       "    </tr>\n",
       "    <tr>\n",
       "      <th>4</th>\n",
       "      <td>Battle of the Whispering Wood</td>\n",
       "      <td>298</td>\n",
       "      <td>5</td>\n",
       "      <td>Robb Stark</td>\n",
       "      <td>Joffrey/Tommen Baratheon</td>\n",
       "      <td>Stark</td>\n",
       "      <td>Tully</td>\n",
       "      <td>NaN</td>\n",
       "      <td>NaN</td>\n",
       "      <td>Lannister</td>\n",
       "      <td>...</td>\n",
       "      <td>1.0</td>\n",
       "      <td>1.0</td>\n",
       "      <td>1875.0</td>\n",
       "      <td>6000.0</td>\n",
       "      <td>Robb Stark, Brynden Tully</td>\n",
       "      <td>Jaime Lannister</td>\n",
       "      <td>1.0</td>\n",
       "      <td>Whispering Wood</td>\n",
       "      <td>The Riverlands</td>\n",
       "      <td>NaN</td>\n",
       "    </tr>\n",
       "  </tbody>\n",
       "</table>\n",
       "<p>5 rows × 23 columns</p>\n",
       "</div>"
      ],
      "text/plain": [
       "                            name  year  battle_number  \\\n",
       "0     Battle of the Golden Tooth   298              1   \n",
       "1    Battle at the Mummer's Ford   298              2   \n",
       "2             Battle of Riverrun   298              3   \n",
       "3       Battle of the Green Fork   298              4   \n",
       "4  Battle of the Whispering Wood   298              5   \n",
       "\n",
       "              attacker_king             defender_king attacker_1 attacker_2  \\\n",
       "0  Joffrey/Tommen Baratheon                Robb Stark  Lannister        NaN   \n",
       "1  Joffrey/Tommen Baratheon                Robb Stark  Lannister        NaN   \n",
       "2  Joffrey/Tommen Baratheon                Robb Stark  Lannister        NaN   \n",
       "3                Robb Stark  Joffrey/Tommen Baratheon      Stark        NaN   \n",
       "4                Robb Stark  Joffrey/Tommen Baratheon      Stark      Tully   \n",
       "\n",
       "  attacker_3 attacker_4 defender_1  ...  major_death major_capture  \\\n",
       "0        NaN        NaN      Tully  ...          1.0           0.0   \n",
       "1        NaN        NaN  Baratheon  ...          1.0           0.0   \n",
       "2        NaN        NaN      Tully  ...          0.0           1.0   \n",
       "3        NaN        NaN  Lannister  ...          1.0           1.0   \n",
       "4        NaN        NaN  Lannister  ...          1.0           1.0   \n",
       "\n",
       "  attacker_size  defender_size  \\\n",
       "0       15000.0         4000.0   \n",
       "1           NaN          120.0   \n",
       "2       15000.0        10000.0   \n",
       "3       18000.0        20000.0   \n",
       "4        1875.0         6000.0   \n",
       "\n",
       "                                  attacker_commander  \\\n",
       "0                                    Jaime Lannister   \n",
       "1                                     Gregor Clegane   \n",
       "2                       Jaime Lannister, Andros Brax   \n",
       "3  Roose Bolton, Wylis Manderly, Medger Cerwyn, H...   \n",
       "4                          Robb Stark, Brynden Tully   \n",
       "\n",
       "                                  defender_commander  summer         location  \\\n",
       "0                               Clement Piper, Vance     1.0     Golden Tooth   \n",
       "1                                   Beric Dondarrion     1.0    Mummer's Ford   \n",
       "2                      Edmure Tully, Tytos Blackwood     1.0         Riverrun   \n",
       "3  Tywin Lannister, Gregor Clegane, Kevan Lannist...     1.0       Green Fork   \n",
       "4                                    Jaime Lannister     1.0  Whispering Wood   \n",
       "\n",
       "            region  note  \n",
       "0  The Westerlands   NaN  \n",
       "1   The Riverlands   NaN  \n",
       "2   The Riverlands   NaN  \n",
       "3   The Riverlands   NaN  \n",
       "4   The Riverlands   NaN  \n",
       "\n",
       "[5 rows x 23 columns]"
      ]
     },
     "execution_count": 29,
     "metadata": {},
     "output_type": "execute_result"
    }
   ],
   "source": [
    "battles.head()"
   ]
  },
  {
   "cell_type": "code",
   "execution_count": 10,
   "metadata": {},
   "outputs": [
    {
     "data": {
      "text/plain": [
       "Index(['Name', 'Allegiances', 'Death Year', 'Book of Death', 'Death Chapter',\n",
       "       'Book Intro Chapter', 'Gender', 'Nobility', 'GoT', 'CoK', 'SoS', 'FfC',\n",
       "       'DwD'],\n",
       "      dtype='object')"
      ]
     },
     "execution_count": 10,
     "metadata": {},
     "output_type": "execute_result"
    }
   ],
   "source": [
    "deaths.head()"
   ]
  },
  {
   "cell_type": "code",
   "execution_count": 11,
   "metadata": {},
   "outputs": [
    {
     "data": {
      "text/plain": [
       "Index(['S.No', 'actual', 'pred', 'alive', 'plod', 'name', 'title', 'male',\n",
       "       'culture', 'dateOfBirth', 'DateoFdeath', 'mother', 'father', 'heir',\n",
       "       'house', 'spouse', 'book1', 'book2', 'book3', 'book4', 'book5',\n",
       "       'isAliveMother', 'isAliveFather', 'isAliveHeir', 'isAliveSpouse',\n",
       "       'isMarried', 'isNoble', 'age', 'numDeadRelations', 'boolDeadRelations',\n",
       "       'isPopular', 'popularity', 'isAlive'],\n",
       "      dtype='object')"
      ]
     },
     "execution_count": 11,
     "metadata": {},
     "output_type": "execute_result"
    }
   ],
   "source": [
    "predictions.head()"
   ]
  },
  {
   "cell_type": "markdown",
   "metadata": {},
   "source": [
    "### Basic Statistical Analysis of the data sets."
   ]
  },
  {
   "cell_type": "code",
   "execution_count": 16,
   "metadata": {},
   "outputs": [
    {
     "data": {
      "text/html": [
       "<div>\n",
       "<style scoped>\n",
       "    .dataframe tbody tr th:only-of-type {\n",
       "        vertical-align: middle;\n",
       "    }\n",
       "\n",
       "    .dataframe tbody tr th {\n",
       "        vertical-align: top;\n",
       "    }\n",
       "\n",
       "    .dataframe thead th {\n",
       "        text-align: right;\n",
       "    }\n",
       "</style>\n",
       "<table border=\"1\" class=\"dataframe\">\n",
       "  <thead>\n",
       "    <tr style=\"text-align: right;\">\n",
       "      <th></th>\n",
       "      <th>year</th>\n",
       "      <th>battle_number</th>\n",
       "      <th>major_death</th>\n",
       "      <th>major_capture</th>\n",
       "      <th>attacker_size</th>\n",
       "      <th>defender_size</th>\n",
       "      <th>summer</th>\n",
       "    </tr>\n",
       "  </thead>\n",
       "  <tbody>\n",
       "    <tr>\n",
       "      <th>count</th>\n",
       "      <td>38.000000</td>\n",
       "      <td>38.000000</td>\n",
       "      <td>37.000000</td>\n",
       "      <td>37.000000</td>\n",
       "      <td>24.000000</td>\n",
       "      <td>19.000000</td>\n",
       "      <td>37.000000</td>\n",
       "    </tr>\n",
       "    <tr>\n",
       "      <th>mean</th>\n",
       "      <td>299.105263</td>\n",
       "      <td>19.500000</td>\n",
       "      <td>0.351351</td>\n",
       "      <td>0.297297</td>\n",
       "      <td>9942.541667</td>\n",
       "      <td>6428.157895</td>\n",
       "      <td>0.702703</td>\n",
       "    </tr>\n",
       "    <tr>\n",
       "      <th>std</th>\n",
       "      <td>0.689280</td>\n",
       "      <td>11.113055</td>\n",
       "      <td>0.483978</td>\n",
       "      <td>0.463373</td>\n",
       "      <td>20283.092065</td>\n",
       "      <td>6225.182106</td>\n",
       "      <td>0.463373</td>\n",
       "    </tr>\n",
       "    <tr>\n",
       "      <th>min</th>\n",
       "      <td>298.000000</td>\n",
       "      <td>1.000000</td>\n",
       "      <td>0.000000</td>\n",
       "      <td>0.000000</td>\n",
       "      <td>20.000000</td>\n",
       "      <td>100.000000</td>\n",
       "      <td>0.000000</td>\n",
       "    </tr>\n",
       "    <tr>\n",
       "      <th>25%</th>\n",
       "      <td>299.000000</td>\n",
       "      <td>10.250000</td>\n",
       "      <td>0.000000</td>\n",
       "      <td>0.000000</td>\n",
       "      <td>1375.000000</td>\n",
       "      <td>1070.000000</td>\n",
       "      <td>0.000000</td>\n",
       "    </tr>\n",
       "    <tr>\n",
       "      <th>50%</th>\n",
       "      <td>299.000000</td>\n",
       "      <td>19.500000</td>\n",
       "      <td>0.000000</td>\n",
       "      <td>0.000000</td>\n",
       "      <td>4000.000000</td>\n",
       "      <td>6000.000000</td>\n",
       "      <td>1.000000</td>\n",
       "    </tr>\n",
       "    <tr>\n",
       "      <th>75%</th>\n",
       "      <td>300.000000</td>\n",
       "      <td>28.750000</td>\n",
       "      <td>1.000000</td>\n",
       "      <td>1.000000</td>\n",
       "      <td>8250.000000</td>\n",
       "      <td>10000.000000</td>\n",
       "      <td>1.000000</td>\n",
       "    </tr>\n",
       "    <tr>\n",
       "      <th>max</th>\n",
       "      <td>300.000000</td>\n",
       "      <td>38.000000</td>\n",
       "      <td>1.000000</td>\n",
       "      <td>1.000000</td>\n",
       "      <td>100000.000000</td>\n",
       "      <td>20000.000000</td>\n",
       "      <td>1.000000</td>\n",
       "    </tr>\n",
       "  </tbody>\n",
       "</table>\n",
       "</div>"
      ],
      "text/plain": [
       "             year  battle_number  major_death  major_capture  attacker_size  \\\n",
       "count   38.000000      38.000000    37.000000      37.000000      24.000000   \n",
       "mean   299.105263      19.500000     0.351351       0.297297    9942.541667   \n",
       "std      0.689280      11.113055     0.483978       0.463373   20283.092065   \n",
       "min    298.000000       1.000000     0.000000       0.000000      20.000000   \n",
       "25%    299.000000      10.250000     0.000000       0.000000    1375.000000   \n",
       "50%    299.000000      19.500000     0.000000       0.000000    4000.000000   \n",
       "75%    300.000000      28.750000     1.000000       1.000000    8250.000000   \n",
       "max    300.000000      38.000000     1.000000       1.000000  100000.000000   \n",
       "\n",
       "       defender_size     summer  \n",
       "count      19.000000  37.000000  \n",
       "mean     6428.157895   0.702703  \n",
       "std      6225.182106   0.463373  \n",
       "min       100.000000   0.000000  \n",
       "25%      1070.000000   0.000000  \n",
       "50%      6000.000000   1.000000  \n",
       "75%     10000.000000   1.000000  \n",
       "max     20000.000000   1.000000  "
      ]
     },
     "execution_count": 16,
     "metadata": {},
     "output_type": "execute_result"
    }
   ],
   "source": [
    "battles.describe()"
   ]
  },
  {
   "cell_type": "markdown",
   "metadata": {},
   "source": [
    "Columns (defender_3, defender_4) are basically empty and irrelevant so we can drop them."
   ]
  },
  {
   "cell_type": "code",
   "execution_count": 15,
   "metadata": {},
   "outputs": [],
   "source": [
    "battles = battles.drop(['defender_3', 'defender_4'],1)"
   ]
  },
  {
   "cell_type": "code",
   "execution_count": 17,
   "metadata": {},
   "outputs": [
    {
     "data": {
      "text/html": [
       "<div>\n",
       "<style scoped>\n",
       "    .dataframe tbody tr th:only-of-type {\n",
       "        vertical-align: middle;\n",
       "    }\n",
       "\n",
       "    .dataframe tbody tr th {\n",
       "        vertical-align: top;\n",
       "    }\n",
       "\n",
       "    .dataframe thead th {\n",
       "        text-align: right;\n",
       "    }\n",
       "</style>\n",
       "<table border=\"1\" class=\"dataframe\">\n",
       "  <thead>\n",
       "    <tr style=\"text-align: right;\">\n",
       "      <th></th>\n",
       "      <th>Death Year</th>\n",
       "      <th>Book of Death</th>\n",
       "      <th>Death Chapter</th>\n",
       "      <th>Book Intro Chapter</th>\n",
       "      <th>Gender</th>\n",
       "      <th>Nobility</th>\n",
       "      <th>GoT</th>\n",
       "      <th>CoK</th>\n",
       "      <th>SoS</th>\n",
       "      <th>FfC</th>\n",
       "      <th>DwD</th>\n",
       "    </tr>\n",
       "  </thead>\n",
       "  <tbody>\n",
       "    <tr>\n",
       "      <th>count</th>\n",
       "      <td>305.000000</td>\n",
       "      <td>307.000000</td>\n",
       "      <td>299.000000</td>\n",
       "      <td>905.000000</td>\n",
       "      <td>917.000000</td>\n",
       "      <td>917.000000</td>\n",
       "      <td>917.000000</td>\n",
       "      <td>917.000000</td>\n",
       "      <td>917.000000</td>\n",
       "      <td>917.000000</td>\n",
       "      <td>917.000000</td>\n",
       "    </tr>\n",
       "    <tr>\n",
       "      <th>mean</th>\n",
       "      <td>299.157377</td>\n",
       "      <td>2.928339</td>\n",
       "      <td>40.070234</td>\n",
       "      <td>28.861878</td>\n",
       "      <td>0.828790</td>\n",
       "      <td>0.468920</td>\n",
       "      <td>0.272628</td>\n",
       "      <td>0.353326</td>\n",
       "      <td>0.424209</td>\n",
       "      <td>0.272628</td>\n",
       "      <td>0.284624</td>\n",
       "    </tr>\n",
       "    <tr>\n",
       "      <th>std</th>\n",
       "      <td>0.703483</td>\n",
       "      <td>1.326482</td>\n",
       "      <td>20.470270</td>\n",
       "      <td>20.165788</td>\n",
       "      <td>0.376898</td>\n",
       "      <td>0.499305</td>\n",
       "      <td>0.445554</td>\n",
       "      <td>0.478264</td>\n",
       "      <td>0.494492</td>\n",
       "      <td>0.445554</td>\n",
       "      <td>0.451481</td>\n",
       "    </tr>\n",
       "    <tr>\n",
       "      <th>min</th>\n",
       "      <td>297.000000</td>\n",
       "      <td>1.000000</td>\n",
       "      <td>0.000000</td>\n",
       "      <td>0.000000</td>\n",
       "      <td>0.000000</td>\n",
       "      <td>0.000000</td>\n",
       "      <td>0.000000</td>\n",
       "      <td>0.000000</td>\n",
       "      <td>0.000000</td>\n",
       "      <td>0.000000</td>\n",
       "      <td>0.000000</td>\n",
       "    </tr>\n",
       "    <tr>\n",
       "      <th>25%</th>\n",
       "      <td>299.000000</td>\n",
       "      <td>2.000000</td>\n",
       "      <td>25.500000</td>\n",
       "      <td>11.000000</td>\n",
       "      <td>1.000000</td>\n",
       "      <td>0.000000</td>\n",
       "      <td>0.000000</td>\n",
       "      <td>0.000000</td>\n",
       "      <td>0.000000</td>\n",
       "      <td>0.000000</td>\n",
       "      <td>0.000000</td>\n",
       "    </tr>\n",
       "    <tr>\n",
       "      <th>50%</th>\n",
       "      <td>299.000000</td>\n",
       "      <td>3.000000</td>\n",
       "      <td>39.000000</td>\n",
       "      <td>27.000000</td>\n",
       "      <td>1.000000</td>\n",
       "      <td>0.000000</td>\n",
       "      <td>0.000000</td>\n",
       "      <td>0.000000</td>\n",
       "      <td>0.000000</td>\n",
       "      <td>0.000000</td>\n",
       "      <td>0.000000</td>\n",
       "    </tr>\n",
       "    <tr>\n",
       "      <th>75%</th>\n",
       "      <td>300.000000</td>\n",
       "      <td>4.000000</td>\n",
       "      <td>57.000000</td>\n",
       "      <td>43.000000</td>\n",
       "      <td>1.000000</td>\n",
       "      <td>1.000000</td>\n",
       "      <td>1.000000</td>\n",
       "      <td>1.000000</td>\n",
       "      <td>1.000000</td>\n",
       "      <td>1.000000</td>\n",
       "      <td>1.000000</td>\n",
       "    </tr>\n",
       "    <tr>\n",
       "      <th>max</th>\n",
       "      <td>300.000000</td>\n",
       "      <td>5.000000</td>\n",
       "      <td>80.000000</td>\n",
       "      <td>80.000000</td>\n",
       "      <td>1.000000</td>\n",
       "      <td>1.000000</td>\n",
       "      <td>1.000000</td>\n",
       "      <td>1.000000</td>\n",
       "      <td>1.000000</td>\n",
       "      <td>1.000000</td>\n",
       "      <td>1.000000</td>\n",
       "    </tr>\n",
       "  </tbody>\n",
       "</table>\n",
       "</div>"
      ],
      "text/plain": [
       "       Death Year  Book of Death  Death Chapter  Book Intro Chapter  \\\n",
       "count  305.000000     307.000000     299.000000          905.000000   \n",
       "mean   299.157377       2.928339      40.070234           28.861878   \n",
       "std      0.703483       1.326482      20.470270           20.165788   \n",
       "min    297.000000       1.000000       0.000000            0.000000   \n",
       "25%    299.000000       2.000000      25.500000           11.000000   \n",
       "50%    299.000000       3.000000      39.000000           27.000000   \n",
       "75%    300.000000       4.000000      57.000000           43.000000   \n",
       "max    300.000000       5.000000      80.000000           80.000000   \n",
       "\n",
       "           Gender    Nobility         GoT         CoK         SoS         FfC  \\\n",
       "count  917.000000  917.000000  917.000000  917.000000  917.000000  917.000000   \n",
       "mean     0.828790    0.468920    0.272628    0.353326    0.424209    0.272628   \n",
       "std      0.376898    0.499305    0.445554    0.478264    0.494492    0.445554   \n",
       "min      0.000000    0.000000    0.000000    0.000000    0.000000    0.000000   \n",
       "25%      1.000000    0.000000    0.000000    0.000000    0.000000    0.000000   \n",
       "50%      1.000000    0.000000    0.000000    0.000000    0.000000    0.000000   \n",
       "75%      1.000000    1.000000    1.000000    1.000000    1.000000    1.000000   \n",
       "max      1.000000    1.000000    1.000000    1.000000    1.000000    1.000000   \n",
       "\n",
       "              DwD  \n",
       "count  917.000000  \n",
       "mean     0.284624  \n",
       "std      0.451481  \n",
       "min      0.000000  \n",
       "25%      0.000000  \n",
       "50%      0.000000  \n",
       "75%      1.000000  \n",
       "max      1.000000  "
      ]
     },
     "execution_count": 17,
     "metadata": {},
     "output_type": "execute_result"
    }
   ],
   "source": [
    "deaths.describe()"
   ]
  },
  {
   "cell_type": "code",
   "execution_count": 18,
   "metadata": {
    "scrolled": true
   },
   "outputs": [
    {
     "data": {
      "text/html": [
       "<div>\n",
       "<style scoped>\n",
       "    .dataframe tbody tr th:only-of-type {\n",
       "        vertical-align: middle;\n",
       "    }\n",
       "\n",
       "    .dataframe tbody tr th {\n",
       "        vertical-align: top;\n",
       "    }\n",
       "\n",
       "    .dataframe thead th {\n",
       "        text-align: right;\n",
       "    }\n",
       "</style>\n",
       "<table border=\"1\" class=\"dataframe\">\n",
       "  <thead>\n",
       "    <tr style=\"text-align: right;\">\n",
       "      <th></th>\n",
       "      <th>S.No</th>\n",
       "      <th>actual</th>\n",
       "      <th>pred</th>\n",
       "      <th>alive</th>\n",
       "      <th>plod</th>\n",
       "      <th>male</th>\n",
       "      <th>dateOfBirth</th>\n",
       "      <th>DateoFdeath</th>\n",
       "      <th>book1</th>\n",
       "      <th>book2</th>\n",
       "      <th>...</th>\n",
       "      <th>isAliveHeir</th>\n",
       "      <th>isAliveSpouse</th>\n",
       "      <th>isMarried</th>\n",
       "      <th>isNoble</th>\n",
       "      <th>age</th>\n",
       "      <th>numDeadRelations</th>\n",
       "      <th>boolDeadRelations</th>\n",
       "      <th>isPopular</th>\n",
       "      <th>popularity</th>\n",
       "      <th>isAlive</th>\n",
       "    </tr>\n",
       "  </thead>\n",
       "  <tbody>\n",
       "    <tr>\n",
       "      <th>count</th>\n",
       "      <td>1946.000000</td>\n",
       "      <td>1946.000000</td>\n",
       "      <td>1946.000000</td>\n",
       "      <td>1946.000000</td>\n",
       "      <td>1946.000000</td>\n",
       "      <td>1946.000000</td>\n",
       "      <td>433.000000</td>\n",
       "      <td>444.000000</td>\n",
       "      <td>1946.000000</td>\n",
       "      <td>1946.000000</td>\n",
       "      <td>...</td>\n",
       "      <td>23.000000</td>\n",
       "      <td>276.000000</td>\n",
       "      <td>1946.000000</td>\n",
       "      <td>1946.000000</td>\n",
       "      <td>433.000000</td>\n",
       "      <td>1946.000000</td>\n",
       "      <td>1946.000000</td>\n",
       "      <td>1946.000000</td>\n",
       "      <td>1946.000000</td>\n",
       "      <td>1946.000000</td>\n",
       "    </tr>\n",
       "    <tr>\n",
       "      <th>mean</th>\n",
       "      <td>973.500000</td>\n",
       "      <td>0.745632</td>\n",
       "      <td>0.687050</td>\n",
       "      <td>0.634470</td>\n",
       "      <td>0.365530</td>\n",
       "      <td>0.619219</td>\n",
       "      <td>1577.364896</td>\n",
       "      <td>2950.193694</td>\n",
       "      <td>0.198356</td>\n",
       "      <td>0.374615</td>\n",
       "      <td>...</td>\n",
       "      <td>0.652174</td>\n",
       "      <td>0.778986</td>\n",
       "      <td>0.141829</td>\n",
       "      <td>0.460946</td>\n",
       "      <td>-1293.563510</td>\n",
       "      <td>0.305755</td>\n",
       "      <td>0.074512</td>\n",
       "      <td>0.059096</td>\n",
       "      <td>0.089584</td>\n",
       "      <td>0.745632</td>\n",
       "    </tr>\n",
       "    <tr>\n",
       "      <th>std</th>\n",
       "      <td>561.906131</td>\n",
       "      <td>0.435617</td>\n",
       "      <td>0.463813</td>\n",
       "      <td>0.312637</td>\n",
       "      <td>0.312637</td>\n",
       "      <td>0.485704</td>\n",
       "      <td>19565.414460</td>\n",
       "      <td>28192.245529</td>\n",
       "      <td>0.398864</td>\n",
       "      <td>0.484148</td>\n",
       "      <td>...</td>\n",
       "      <td>0.486985</td>\n",
       "      <td>0.415684</td>\n",
       "      <td>0.348965</td>\n",
       "      <td>0.498601</td>\n",
       "      <td>19564.340993</td>\n",
       "      <td>1.383910</td>\n",
       "      <td>0.262669</td>\n",
       "      <td>0.235864</td>\n",
       "      <td>0.160568</td>\n",
       "      <td>0.435617</td>\n",
       "    </tr>\n",
       "    <tr>\n",
       "      <th>min</th>\n",
       "      <td>1.000000</td>\n",
       "      <td>0.000000</td>\n",
       "      <td>0.000000</td>\n",
       "      <td>0.000000</td>\n",
       "      <td>0.000000</td>\n",
       "      <td>0.000000</td>\n",
       "      <td>-28.000000</td>\n",
       "      <td>0.000000</td>\n",
       "      <td>0.000000</td>\n",
       "      <td>0.000000</td>\n",
       "      <td>...</td>\n",
       "      <td>0.000000</td>\n",
       "      <td>0.000000</td>\n",
       "      <td>0.000000</td>\n",
       "      <td>0.000000</td>\n",
       "      <td>-298001.000000</td>\n",
       "      <td>0.000000</td>\n",
       "      <td>0.000000</td>\n",
       "      <td>0.000000</td>\n",
       "      <td>0.000000</td>\n",
       "      <td>0.000000</td>\n",
       "    </tr>\n",
       "    <tr>\n",
       "      <th>25%</th>\n",
       "      <td>487.250000</td>\n",
       "      <td>0.000000</td>\n",
       "      <td>0.000000</td>\n",
       "      <td>0.391250</td>\n",
       "      <td>0.101000</td>\n",
       "      <td>0.000000</td>\n",
       "      <td>240.000000</td>\n",
       "      <td>282.000000</td>\n",
       "      <td>0.000000</td>\n",
       "      <td>0.000000</td>\n",
       "      <td>...</td>\n",
       "      <td>0.000000</td>\n",
       "      <td>1.000000</td>\n",
       "      <td>0.000000</td>\n",
       "      <td>0.000000</td>\n",
       "      <td>18.000000</td>\n",
       "      <td>0.000000</td>\n",
       "      <td>0.000000</td>\n",
       "      <td>0.000000</td>\n",
       "      <td>0.013378</td>\n",
       "      <td>0.000000</td>\n",
       "    </tr>\n",
       "    <tr>\n",
       "      <th>50%</th>\n",
       "      <td>973.500000</td>\n",
       "      <td>1.000000</td>\n",
       "      <td>1.000000</td>\n",
       "      <td>0.735500</td>\n",
       "      <td>0.264500</td>\n",
       "      <td>1.000000</td>\n",
       "      <td>268.000000</td>\n",
       "      <td>299.000000</td>\n",
       "      <td>0.000000</td>\n",
       "      <td>0.000000</td>\n",
       "      <td>...</td>\n",
       "      <td>1.000000</td>\n",
       "      <td>1.000000</td>\n",
       "      <td>0.000000</td>\n",
       "      <td>0.000000</td>\n",
       "      <td>27.000000</td>\n",
       "      <td>0.000000</td>\n",
       "      <td>0.000000</td>\n",
       "      <td>0.000000</td>\n",
       "      <td>0.033445</td>\n",
       "      <td>1.000000</td>\n",
       "    </tr>\n",
       "    <tr>\n",
       "      <th>75%</th>\n",
       "      <td>1459.750000</td>\n",
       "      <td>1.000000</td>\n",
       "      <td>1.000000</td>\n",
       "      <td>0.899000</td>\n",
       "      <td>0.608750</td>\n",
       "      <td>1.000000</td>\n",
       "      <td>285.000000</td>\n",
       "      <td>299.000000</td>\n",
       "      <td>0.000000</td>\n",
       "      <td>1.000000</td>\n",
       "      <td>...</td>\n",
       "      <td>1.000000</td>\n",
       "      <td>1.000000</td>\n",
       "      <td>0.000000</td>\n",
       "      <td>1.000000</td>\n",
       "      <td>50.000000</td>\n",
       "      <td>0.000000</td>\n",
       "      <td>0.000000</td>\n",
       "      <td>0.000000</td>\n",
       "      <td>0.086957</td>\n",
       "      <td>1.000000</td>\n",
       "    </tr>\n",
       "    <tr>\n",
       "      <th>max</th>\n",
       "      <td>1946.000000</td>\n",
       "      <td>1.000000</td>\n",
       "      <td>1.000000</td>\n",
       "      <td>1.000000</td>\n",
       "      <td>1.000000</td>\n",
       "      <td>1.000000</td>\n",
       "      <td>298299.000000</td>\n",
       "      <td>298299.000000</td>\n",
       "      <td>1.000000</td>\n",
       "      <td>1.000000</td>\n",
       "      <td>...</td>\n",
       "      <td>1.000000</td>\n",
       "      <td>1.000000</td>\n",
       "      <td>1.000000</td>\n",
       "      <td>1.000000</td>\n",
       "      <td>100.000000</td>\n",
       "      <td>15.000000</td>\n",
       "      <td>1.000000</td>\n",
       "      <td>1.000000</td>\n",
       "      <td>1.000000</td>\n",
       "      <td>1.000000</td>\n",
       "    </tr>\n",
       "  </tbody>\n",
       "</table>\n",
       "<p>8 rows × 25 columns</p>\n",
       "</div>"
      ],
      "text/plain": [
       "              S.No       actual         pred        alive         plod  \\\n",
       "count  1946.000000  1946.000000  1946.000000  1946.000000  1946.000000   \n",
       "mean    973.500000     0.745632     0.687050     0.634470     0.365530   \n",
       "std     561.906131     0.435617     0.463813     0.312637     0.312637   \n",
       "min       1.000000     0.000000     0.000000     0.000000     0.000000   \n",
       "25%     487.250000     0.000000     0.000000     0.391250     0.101000   \n",
       "50%     973.500000     1.000000     1.000000     0.735500     0.264500   \n",
       "75%    1459.750000     1.000000     1.000000     0.899000     0.608750   \n",
       "max    1946.000000     1.000000     1.000000     1.000000     1.000000   \n",
       "\n",
       "              male    dateOfBirth    DateoFdeath        book1        book2  \\\n",
       "count  1946.000000     433.000000     444.000000  1946.000000  1946.000000   \n",
       "mean      0.619219    1577.364896    2950.193694     0.198356     0.374615   \n",
       "std       0.485704   19565.414460   28192.245529     0.398864     0.484148   \n",
       "min       0.000000     -28.000000       0.000000     0.000000     0.000000   \n",
       "25%       0.000000     240.000000     282.000000     0.000000     0.000000   \n",
       "50%       1.000000     268.000000     299.000000     0.000000     0.000000   \n",
       "75%       1.000000     285.000000     299.000000     0.000000     1.000000   \n",
       "max       1.000000  298299.000000  298299.000000     1.000000     1.000000   \n",
       "\n",
       "          ...       isAliveHeir  isAliveSpouse    isMarried      isNoble  \\\n",
       "count     ...         23.000000     276.000000  1946.000000  1946.000000   \n",
       "mean      ...          0.652174       0.778986     0.141829     0.460946   \n",
       "std       ...          0.486985       0.415684     0.348965     0.498601   \n",
       "min       ...          0.000000       0.000000     0.000000     0.000000   \n",
       "25%       ...          0.000000       1.000000     0.000000     0.000000   \n",
       "50%       ...          1.000000       1.000000     0.000000     0.000000   \n",
       "75%       ...          1.000000       1.000000     0.000000     1.000000   \n",
       "max       ...          1.000000       1.000000     1.000000     1.000000   \n",
       "\n",
       "                 age  numDeadRelations  boolDeadRelations    isPopular  \\\n",
       "count     433.000000       1946.000000        1946.000000  1946.000000   \n",
       "mean    -1293.563510          0.305755           0.074512     0.059096   \n",
       "std     19564.340993          1.383910           0.262669     0.235864   \n",
       "min   -298001.000000          0.000000           0.000000     0.000000   \n",
       "25%        18.000000          0.000000           0.000000     0.000000   \n",
       "50%        27.000000          0.000000           0.000000     0.000000   \n",
       "75%        50.000000          0.000000           0.000000     0.000000   \n",
       "max       100.000000         15.000000           1.000000     1.000000   \n",
       "\n",
       "        popularity      isAlive  \n",
       "count  1946.000000  1946.000000  \n",
       "mean      0.089584     0.745632  \n",
       "std       0.160568     0.435617  \n",
       "min       0.000000     0.000000  \n",
       "25%       0.013378     0.000000  \n",
       "50%       0.033445     1.000000  \n",
       "75%       0.086957     1.000000  \n",
       "max       1.000000     1.000000  \n",
       "\n",
       "[8 rows x 25 columns]"
      ]
     },
     "execution_count": 18,
     "metadata": {},
     "output_type": "execute_result"
    }
   ],
   "source": [
    "predictions.describe()"
   ]
  },
  {
   "cell_type": "markdown",
   "metadata": {},
   "source": [
    "We will now see if we have any relationships between variables"
   ]
  },
  {
   "cell_type": "code",
   "execution_count": 19,
   "metadata": {},
   "outputs": [
    {
     "data": {
      "text/html": [
       "<div>\n",
       "<style scoped>\n",
       "    .dataframe tbody tr th:only-of-type {\n",
       "        vertical-align: middle;\n",
       "    }\n",
       "\n",
       "    .dataframe tbody tr th {\n",
       "        vertical-align: top;\n",
       "    }\n",
       "\n",
       "    .dataframe thead th {\n",
       "        text-align: right;\n",
       "    }\n",
       "</style>\n",
       "<table border=\"1\" class=\"dataframe\">\n",
       "  <thead>\n",
       "    <tr style=\"text-align: right;\">\n",
       "      <th></th>\n",
       "      <th>year</th>\n",
       "      <th>battle_number</th>\n",
       "      <th>major_death</th>\n",
       "      <th>major_capture</th>\n",
       "      <th>attacker_size</th>\n",
       "      <th>defender_size</th>\n",
       "      <th>summer</th>\n",
       "    </tr>\n",
       "  </thead>\n",
       "  <tbody>\n",
       "    <tr>\n",
       "      <th>year</th>\n",
       "      <td>1.000000</td>\n",
       "      <td>0.906781</td>\n",
       "      <td>-0.341050</td>\n",
       "      <td>-0.166234</td>\n",
       "      <td>0.155841</td>\n",
       "      <td>-0.366048</td>\n",
       "      <td>-0.841912</td>\n",
       "    </tr>\n",
       "    <tr>\n",
       "      <th>battle_number</th>\n",
       "      <td>0.906781</td>\n",
       "      <td>1.000000</td>\n",
       "      <td>-0.270421</td>\n",
       "      <td>-0.105225</td>\n",
       "      <td>0.086418</td>\n",
       "      <td>-0.297730</td>\n",
       "      <td>-0.799090</td>\n",
       "    </tr>\n",
       "    <tr>\n",
       "      <th>major_death</th>\n",
       "      <td>-0.341050</td>\n",
       "      <td>-0.270421</td>\n",
       "      <td>1.000000</td>\n",
       "      <td>0.264464</td>\n",
       "      <td>0.267966</td>\n",
       "      <td>0.081815</td>\n",
       "      <td>0.337136</td>\n",
       "    </tr>\n",
       "    <tr>\n",
       "      <th>major_capture</th>\n",
       "      <td>-0.166234</td>\n",
       "      <td>-0.105225</td>\n",
       "      <td>0.264464</td>\n",
       "      <td>1.000000</td>\n",
       "      <td>0.331961</td>\n",
       "      <td>0.249510</td>\n",
       "      <td>0.142112</td>\n",
       "    </tr>\n",
       "    <tr>\n",
       "      <th>attacker_size</th>\n",
       "      <td>0.155841</td>\n",
       "      <td>0.086418</td>\n",
       "      <td>0.267966</td>\n",
       "      <td>0.331961</td>\n",
       "      <td>1.000000</td>\n",
       "      <td>-0.112118</td>\n",
       "      <td>-0.273054</td>\n",
       "    </tr>\n",
       "    <tr>\n",
       "      <th>defender_size</th>\n",
       "      <td>-0.366048</td>\n",
       "      <td>-0.297730</td>\n",
       "      <td>0.081815</td>\n",
       "      <td>0.249510</td>\n",
       "      <td>-0.112118</td>\n",
       "      <td>1.000000</td>\n",
       "      <td>0.347108</td>\n",
       "    </tr>\n",
       "    <tr>\n",
       "      <th>summer</th>\n",
       "      <td>-0.841912</td>\n",
       "      <td>-0.799090</td>\n",
       "      <td>0.337136</td>\n",
       "      <td>0.142112</td>\n",
       "      <td>-0.273054</td>\n",
       "      <td>0.347108</td>\n",
       "      <td>1.000000</td>\n",
       "    </tr>\n",
       "  </tbody>\n",
       "</table>\n",
       "</div>"
      ],
      "text/plain": [
       "                   year  battle_number  major_death  major_capture  \\\n",
       "year           1.000000       0.906781    -0.341050      -0.166234   \n",
       "battle_number  0.906781       1.000000    -0.270421      -0.105225   \n",
       "major_death   -0.341050      -0.270421     1.000000       0.264464   \n",
       "major_capture -0.166234      -0.105225     0.264464       1.000000   \n",
       "attacker_size  0.155841       0.086418     0.267966       0.331961   \n",
       "defender_size -0.366048      -0.297730     0.081815       0.249510   \n",
       "summer        -0.841912      -0.799090     0.337136       0.142112   \n",
       "\n",
       "               attacker_size  defender_size    summer  \n",
       "year                0.155841      -0.366048 -0.841912  \n",
       "battle_number       0.086418      -0.297730 -0.799090  \n",
       "major_death         0.267966       0.081815  0.337136  \n",
       "major_capture       0.331961       0.249510  0.142112  \n",
       "attacker_size       1.000000      -0.112118 -0.273054  \n",
       "defender_size      -0.112118       1.000000  0.347108  \n",
       "summer             -0.273054       0.347108  1.000000  "
      ]
     },
     "execution_count": 19,
     "metadata": {},
     "output_type": "execute_result"
    }
   ],
   "source": [
    "battles.corr()"
   ]
  },
  {
   "cell_type": "code",
   "execution_count": 23,
   "metadata": {},
   "outputs": [
    {
     "data": {
      "text/plain": [
       "<matplotlib.axes._subplots.AxesSubplot at 0xba67550>"
      ]
     },
     "execution_count": 23,
     "metadata": {},
     "output_type": "execute_result"
    },
    {
     "data": {
      "image/png": "[encoded data removed]",
      "text/plain": [
       "<Figure size 1440x720 with 2 Axes>"
      ]
     },
     "metadata": {},
     "output_type": "display_data"
    }
   ],
   "source": [
    "ml.figure(figsize=(20,10)) \n",
    "sn.heatmap(battles.corr(),annot=True)"
   ]
  },
  {
   "cell_type": "markdown",
   "metadata": {},
   "source": [
    "There seems to be no correlation between any variables"
   ]
  },
  {
   "cell_type": "code",
   "execution_count": 24,
   "metadata": {},
   "outputs": [
    {
     "data": {
      "text/html": [
       "<div>\n",
       "<style scoped>\n",
       "    .dataframe tbody tr th:only-of-type {\n",
       "        vertical-align: middle;\n",
       "    }\n",
       "\n",
       "    .dataframe tbody tr th {\n",
       "        vertical-align: top;\n",
       "    }\n",
       "\n",
       "    .dataframe thead th {\n",
       "        text-align: right;\n",
       "    }\n",
       "</style>\n",
       "<table border=\"1\" class=\"dataframe\">\n",
       "  <thead>\n",
       "    <tr style=\"text-align: right;\">\n",
       "      <th></th>\n",
       "      <th>Death Year</th>\n",
       "      <th>Book of Death</th>\n",
       "      <th>Death Chapter</th>\n",
       "      <th>Book Intro Chapter</th>\n",
       "      <th>Gender</th>\n",
       "      <th>Nobility</th>\n",
       "      <th>GoT</th>\n",
       "      <th>CoK</th>\n",
       "      <th>SoS</th>\n",
       "      <th>FfC</th>\n",
       "      <th>DwD</th>\n",
       "    </tr>\n",
       "  </thead>\n",
       "  <tbody>\n",
       "    <tr>\n",
       "      <th>Death Year</th>\n",
       "      <td>1.000000</td>\n",
       "      <td>0.832274</td>\n",
       "      <td>-0.068763</td>\n",
       "      <td>0.051674</td>\n",
       "      <td>-0.135058</td>\n",
       "      <td>0.042457</td>\n",
       "      <td>-0.439234</td>\n",
       "      <td>0.077509</td>\n",
       "      <td>0.313062</td>\n",
       "      <td>0.357204</td>\n",
       "      <td>0.550213</td>\n",
       "    </tr>\n",
       "    <tr>\n",
       "      <th>Book of Death</th>\n",
       "      <td>0.832274</td>\n",
       "      <td>1.000000</td>\n",
       "      <td>-0.207666</td>\n",
       "      <td>0.016975</td>\n",
       "      <td>-0.111461</td>\n",
       "      <td>0.017475</td>\n",
       "      <td>-0.434004</td>\n",
       "      <td>-0.131860</td>\n",
       "      <td>0.350095</td>\n",
       "      <td>0.340436</td>\n",
       "      <td>0.714574</td>\n",
       "    </tr>\n",
       "    <tr>\n",
       "      <th>Death Chapter</th>\n",
       "      <td>-0.068763</td>\n",
       "      <td>-0.207666</td>\n",
       "      <td>1.000000</td>\n",
       "      <td>0.388283</td>\n",
       "      <td>-0.086533</td>\n",
       "      <td>0.075943</td>\n",
       "      <td>0.126657</td>\n",
       "      <td>0.012939</td>\n",
       "      <td>-0.149095</td>\n",
       "      <td>-0.167285</td>\n",
       "      <td>-0.145384</td>\n",
       "    </tr>\n",
       "    <tr>\n",
       "      <th>Book Intro Chapter</th>\n",
       "      <td>0.051674</td>\n",
       "      <td>0.016975</td>\n",
       "      <td>0.388283</td>\n",
       "      <td>1.000000</td>\n",
       "      <td>0.058684</td>\n",
       "      <td>-0.068825</td>\n",
       "      <td>0.129241</td>\n",
       "      <td>0.002445</td>\n",
       "      <td>0.158419</td>\n",
       "      <td>-0.146165</td>\n",
       "      <td>-0.077509</td>\n",
       "    </tr>\n",
       "    <tr>\n",
       "      <th>Gender</th>\n",
       "      <td>-0.135058</td>\n",
       "      <td>-0.111461</td>\n",
       "      <td>-0.086533</td>\n",
       "      <td>0.058684</td>\n",
       "      <td>1.000000</td>\n",
       "      <td>-0.060213</td>\n",
       "      <td>0.070228</td>\n",
       "      <td>0.063424</td>\n",
       "      <td>-0.049199</td>\n",
       "      <td>-0.040289</td>\n",
       "      <td>-0.046924</td>\n",
       "    </tr>\n",
       "    <tr>\n",
       "      <th>Nobility</th>\n",
       "      <td>0.042457</td>\n",
       "      <td>0.017475</td>\n",
       "      <td>0.075943</td>\n",
       "      <td>-0.068825</td>\n",
       "      <td>-0.060213</td>\n",
       "      <td>1.000000</td>\n",
       "      <td>0.087201</td>\n",
       "      <td>0.055179</td>\n",
       "      <td>0.046825</td>\n",
       "      <td>0.146088</td>\n",
       "      <td>-0.001880</td>\n",
       "    </tr>\n",
       "    <tr>\n",
       "      <th>GoT</th>\n",
       "      <td>-0.439234</td>\n",
       "      <td>-0.434004</td>\n",
       "      <td>0.126657</td>\n",
       "      <td>0.129241</td>\n",
       "      <td>0.070228</td>\n",
       "      <td>0.087201</td>\n",
       "      <td>1.000000</td>\n",
       "      <td>0.121257</td>\n",
       "      <td>0.004696</td>\n",
       "      <td>-0.088852</td>\n",
       "      <td>-0.120242</td>\n",
       "    </tr>\n",
       "    <tr>\n",
       "      <th>CoK</th>\n",
       "      <td>0.077509</td>\n",
       "      <td>-0.131860</td>\n",
       "      <td>0.012939</td>\n",
       "      <td>0.002445</td>\n",
       "      <td>0.063424</td>\n",
       "      <td>0.055179</td>\n",
       "      <td>0.121257</td>\n",
       "      <td>1.000000</td>\n",
       "      <td>-0.002049</td>\n",
       "      <td>-0.083669</td>\n",
       "      <td>-0.107276</td>\n",
       "    </tr>\n",
       "    <tr>\n",
       "      <th>SoS</th>\n",
       "      <td>0.313062</td>\n",
       "      <td>0.350095</td>\n",
       "      <td>-0.149095</td>\n",
       "      <td>0.158419</td>\n",
       "      <td>-0.049199</td>\n",
       "      <td>0.046825</td>\n",
       "      <td>0.004696</td>\n",
       "      <td>-0.002049</td>\n",
       "      <td>1.000000</td>\n",
       "      <td>-0.074585</td>\n",
       "      <td>-0.013294</td>\n",
       "    </tr>\n",
       "    <tr>\n",
       "      <th>FfC</th>\n",
       "      <td>0.357204</td>\n",
       "      <td>0.340436</td>\n",
       "      <td>-0.167285</td>\n",
       "      <td>-0.146165</td>\n",
       "      <td>-0.040289</td>\n",
       "      <td>0.146088</td>\n",
       "      <td>-0.088852</td>\n",
       "      <td>-0.083669</td>\n",
       "      <td>-0.074585</td>\n",
       "      <td>1.000000</td>\n",
       "      <td>-0.109387</td>\n",
       "    </tr>\n",
       "    <tr>\n",
       "      <th>DwD</th>\n",
       "      <td>0.550213</td>\n",
       "      <td>0.714574</td>\n",
       "      <td>-0.145384</td>\n",
       "      <td>-0.077509</td>\n",
       "      <td>-0.046924</td>\n",
       "      <td>-0.001880</td>\n",
       "      <td>-0.120242</td>\n",
       "      <td>-0.107276</td>\n",
       "      <td>-0.013294</td>\n",
       "      <td>-0.109387</td>\n",
       "      <td>1.000000</td>\n",
       "    </tr>\n",
       "  </tbody>\n",
       "</table>\n",
       "</div>"
      ],
      "text/plain": [
       "                    Death Year  Book of Death  Death Chapter  \\\n",
       "Death Year            1.000000       0.832274      -0.068763   \n",
       "Book of Death         0.832274       1.000000      -0.207666   \n",
       "Death Chapter        -0.068763      -0.207666       1.000000   \n",
       "Book Intro Chapter    0.051674       0.016975       0.388283   \n",
       "Gender               -0.135058      -0.111461      -0.086533   \n",
       "Nobility              0.042457       0.017475       0.075943   \n",
       "GoT                  -0.439234      -0.434004       0.126657   \n",
       "CoK                   0.077509      -0.131860       0.012939   \n",
       "SoS                   0.313062       0.350095      -0.149095   \n",
       "FfC                   0.357204       0.340436      -0.167285   \n",
       "DwD                   0.550213       0.714574      -0.145384   \n",
       "\n",
       "                    Book Intro Chapter    Gender  Nobility       GoT  \\\n",
       "Death Year                    0.051674 -0.135058  0.042457 -0.439234   \n",
       "Book of Death                 0.016975 -0.111461  0.017475 -0.434004   \n",
       "Death Chapter                 0.388283 -0.086533  0.075943  0.126657   \n",
       "Book Intro Chapter            1.000000  0.058684 -0.068825  0.129241   \n",
       "Gender                        0.058684  1.000000 -0.060213  0.070228   \n",
       "Nobility                     -0.068825 -0.060213  1.000000  0.087201   \n",
       "GoT                           0.129241  0.070228  0.087201  1.000000   \n",
       "CoK                           0.002445  0.063424  0.055179  0.121257   \n",
       "SoS                           0.158419 -0.049199  0.046825  0.004696   \n",
       "FfC                          -0.146165 -0.040289  0.146088 -0.088852   \n",
       "DwD                          -0.077509 -0.046924 -0.001880 -0.120242   \n",
       "\n",
       "                         CoK       SoS       FfC       DwD  \n",
       "Death Year          0.077509  0.313062  0.357204  0.550213  \n",
       "Book of Death      -0.131860  0.350095  0.340436  0.714574  \n",
       "Death Chapter       0.012939 -0.149095 -0.167285 -0.145384  \n",
       "Book Intro Chapter  0.002445  0.158419 -0.146165 -0.077509  \n",
       "Gender              0.063424 -0.049199 -0.040289 -0.046924  \n",
       "Nobility            0.055179  0.046825  0.146088 -0.001880  \n",
       "GoT                 0.121257  0.004696 -0.088852 -0.120242  \n",
       "CoK                 1.000000 -0.002049 -0.083669 -0.107276  \n",
       "SoS                -0.002049  1.000000 -0.074585 -0.013294  \n",
       "FfC                -0.083669 -0.074585  1.000000 -0.109387  \n",
       "DwD                -0.107276 -0.013294 -0.109387  1.000000  "
      ]
     },
     "execution_count": 24,
     "metadata": {},
     "output_type": "execute_result"
    }
   ],
   "source": [
    "deaths.corr()"
   ]
  },
  {
   "cell_type": "code",
   "execution_count": 26,
   "metadata": {},
   "outputs": [
    {
     "data": {
      "text/plain": [
       "<matplotlib.axes._subplots.AxesSubplot at 0xc42de10>"
      ]
     },
     "execution_count": 26,
     "metadata": {},
     "output_type": "execute_result"
    },
    {
     "data": {
      "image/png": "[encoded data removed]",
      "text/plain": [
       "<Figure size 1440x720 with 2 Axes>"
      ]
     },
     "metadata": {},
     "output_type": "display_data"
    }
   ],
   "source": [
    "ml.figure(figsize=(20,10)) \n",
    "sn.heatmap(deaths.corr(),annot=True)"
   ]
  },
  {
   "cell_type": "markdown",
   "metadata": {},
   "source": [
    "There seems to be a decent correlation between the Death Year and Book (DWD) Dancing with Dragons and Book of Death."
   ]
  },
  {
   "cell_type": "markdown",
   "metadata": {},
   "source": [
    "### Battles"
   ]
  },
  {
   "cell_type": "markdown",
   "metadata": {},
   "source": [
    "When we look at the battles lets see who is winning."
   ]
  },
  {
   "cell_type": "code",
   "execution_count": 27,
   "metadata": {},
   "outputs": [
    {
     "data": {
      "text/plain": [
       "<matplotlib.axes._subplots.AxesSubplot at 0xbb6cd30>"
      ]
     },
     "execution_count": 27,
     "metadata": {},
     "output_type": "execute_result"
    },
    {
     "data": {
      "image/png": "[encoded data removed]",
      "text/plain": [
       "<Figure size 1080x720 with 1 Axes>"
      ]
     },
     "metadata": {},
     "output_type": "display_data"
    }
   ],
   "source": [
    "ml.figure(figsize = (15,10))\n",
    "sn.countplot(x='attacker_outcome',data = battles)"
   ]
  },
  {
   "cell_type": "markdown",
   "metadata": {},
   "source": [
    "We can say chances are if you start a battle you will likely win. Which makes sense, because one would never start a battle if they did not feel more than prepared. Also you would never attack your opponent when they expect it."
   ]
  },
  {
   "cell_type": "code",
   "execution_count": 31,
   "metadata": {},
   "outputs": [
    {
     "data": {
      "text/plain": [
       "<matplotlib.axes._subplots.AxesSubplot at 0xbda3dd8>"
      ]
     },
     "execution_count": 31,
     "metadata": {},
     "output_type": "execute_result"
    },
    {
     "data": {
      "text/plain": [
       "<Figure size 1080x720 with 0 Axes>"
      ]
     },
     "metadata": {},
     "output_type": "display_data"
    },
    {
     "data": {
      "image/png": "[encoded data removed]",
      "text/plain": [
       "<Figure size 432x288 with 1 Axes>"
      ]
     },
     "metadata": {},
     "output_type": "display_data"
    }
   ],
   "source": [
    "ml.figure(figsize = (15,10))\n",
    "attack = pd.DataFrame(battles.groupby(\"attacker_king\").size().sort_values())\n",
    "attack = attack.rename(columns = {0:'Battle'})\n",
    "attack.plot(kind='bar')"
   ]
  },
  {
   "cell_type": "markdown",
   "metadata": {},
   "source": [
    "If you have watched the series you will not be surprised by this. I am still surprised that Robb Stark had that many battles that he started"
   ]
  },
  {
   "cell_type": "code",
   "execution_count": 34,
   "metadata": {},
   "outputs": [
    {
     "data": {
      "text/plain": [
       "<matplotlib.axes._subplots.AxesSubplot at 0xc75b550>"
      ]
     },
     "execution_count": 34,
     "metadata": {},
     "output_type": "execute_result"
    },
    {
     "data": {
      "text/plain": [
       "<Figure size 1080x720 with 0 Axes>"
      ]
     },
     "metadata": {},
     "output_type": "display_data"
    },
    {
     "data": {
      "image/png": "[encoded data removed]",
      "text/plain": [
       "<Figure size 432x288 with 1 Axes>"
      ]
     },
     "metadata": {},
     "output_type": "display_data"
    }
   ],
   "source": [
    "ml.figure(figsize = (15,10))\n",
    "attack = pd.DataFrame(battles.groupby(\"defender_king\").size().sort_values())\n",
    "attack = attack.rename(columns = {0:'Defenece'})\n",
    "attack.plot(kind='bar')"
   ]
  },
  {
   "cell_type": "markdown",
   "metadata": {},
   "source": [
    "The Baratheon's seemed to be able to give as good as they get. Again Surprised Robb had to defend himself so many times considering he was so close to the North."
   ]
  },
  {
   "cell_type": "markdown",
   "metadata": {},
   "source": [
    "We will now look at the various win loss ratios."
   ]
  },
  {
   "cell_type": "code",
   "execution_count": 39,
   "metadata": {},
   "outputs": [
    {
     "data": {
      "text/plain": [
       "<matplotlib.axes._subplots.AxesSubplot at 0xccc4400>"
      ]
     },
     "execution_count": 39,
     "metadata": {},
     "output_type": "execute_result"
    },
    {
     "data": {
      "image/png": "[encoded data removed]",
      "text/plain": [
       "<Figure size 1080x720 with 1 Axes>"
      ]
     },
     "metadata": {},
     "output_type": "display_data"
    }
   ],
   "source": [
    "ml.figure(figsize = (15,10))\n",
    "sn.countplot(x='attacker_king', hue = 'attacker_outcome', data = battles)\n"
   ]
  },
  {
   "cell_type": "markdown",
   "metadata": {},
   "source": [
    "Everyone had decent win ratios bar Stannis Baratheon."
   ]
  },
  {
   "cell_type": "code",
   "execution_count": 56,
   "metadata": {},
   "outputs": [
    {
     "data": {
      "text/plain": [
       "<matplotlib.legend.Legend at 0x10dfd780>"
      ]
     },
     "execution_count": 56,
     "metadata": {},
     "output_type": "execute_result"
    },
    {
     "data": {
      "image/png": "[encoded data removed]",
      "text/plain": [
       "<Figure size 1080x720 with 1 Axes>"
      ]
     },
     "metadata": {},
     "output_type": "display_data"
    }
   ],
   "source": [
    "ml.figure(figsize = (15,10))\n",
    "sn.countplot(x='attacker_outcome', hue= 'battle_type', data = battles)\n",
    "ml.legend(bbox_to_anchor=(1, 1), loc=2)"
   ]
  },
  {
   "cell_type": "markdown",
   "metadata": {},
   "source": [
    "Seems like sieges and razings had a best success ratios, 100%, whereas pitched battles were nearly 50/50."
   ]
  },
  {
   "cell_type": "code",
   "execution_count": 57,
   "metadata": {},
   "outputs": [
    {
     "data": {
      "text/plain": [
       "<matplotlib.axes._subplots.AxesSubplot at 0x10bc2128>"
      ]
     },
     "execution_count": 57,
     "metadata": {},
     "output_type": "execute_result"
    },
    {
     "data": {
      "image/png": "[encoded data removed]",
      "text/plain": [
       "<Figure size 1080x720 with 1 Axes>"
      ]
     },
     "metadata": {},
     "output_type": "display_data"
    }
   ],
   "source": [
    "ml.figure(figsize = (15,10))\n",
    "sn.countplot(x='year', data = battles)"
   ]
  },
  {
   "cell_type": "markdown",
   "metadata": {},
   "source": [
    "The year 299 had the battles. Why? I do not know."
   ]
  }
 ],
 "metadata": {
  "kernelspec": {
   "display_name": "Python 3",
   "language": "python",
   "name": "python3"
  },
  "language_info": {
   "codemirror_mode": {
    "name": "ipython",
    "version": 3
   },
   "file_extension": ".py",
   "mimetype": "text/x-python",
   "name": "python",
   "nbconvert_exporter": "python",
   "pygments_lexer": "ipython3",
   "version": "3.6.6"
  }
 },
 "nbformat": 4,
 "nbformat_minor": 2
}
